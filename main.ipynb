{
 "cells": [
  {
   "cell_type": "code",
   "execution_count": 4,
   "id": "4c20e5ad",
   "metadata": {},
   "outputs": [
    {
     "name": "stdout",
     "output_type": "stream",
     "text": [
      " Volume in drive D is New Volume\n",
      " Volume Serial Number is 6061-80F5\n",
      "\n",
      " Directory of d:\\Projects\\Research\\new-project\\pytorch-classification\n",
      "\n",
      "23-10-2025  13:35    <DIR>          .\n",
      "23-10-2025  10:28    <DIR>          ..\n",
      "23-10-2025  09:55             1,237 .gitignore\n",
      "23-10-2025  09:55               102 .gitmodules\n",
      "23-10-2025  09:55            13,947 cifar.py\n",
      "23-10-2025  13:31            14,867 customdata.py\n",
      "23-10-2025  13:31            13,486 imagenet.py\n",
      "23-10-2025  09:55             1,086 LICENSE\n",
      "23-10-2025  13:35                 0 main.ipynb\n",
      "23-10-2025  09:55    <DIR>          models\n",
      "23-10-2025  09:55             3,887 README.md\n",
      "23-10-2025  09:55             4,591 TRAINING.md\n",
      "23-10-2025  09:55    <DIR>          utils\n",
      "               9 File(s)         53,203 bytes\n",
      "               4 Dir(s)  100,506,513,408 bytes free\n"
     ]
    }
   ],
   "source": [
    "!dir"
   ]
  },
  {
   "cell_type": "code",
   "execution_count": null,
   "id": "3d125218",
   "metadata": {},
   "outputs": [
    {
     "name": "stdout",
     "output_type": "stream",
     "text": [
      "^C\n"
     ]
    }
   ],
   "source": [
    "python customdata.py `\n",
    "    -a resnet18 `\n",
    "    -d \"D:\\Projects\\Research\\new-project\\data\\classification_training\\A2_classification_training\" `\n",
    "    --pretrained `\n",
    "    --epochs 30 `\n",
    "    --schedule 15 25 `\n",
    "    --gamma 0.1 `\n",
    "    --lr 0.001 `\n",
    "    -c \"checkpoints/my_model/resnet18\"\n"
   ]
  },
  {
   "cell_type": "code",
   "execution_count": null,
   "id": "9e09711c",
   "metadata": {},
   "outputs": [],
   "source": []
  }
 ],
 "metadata": {
  "kernelspec": {
   "display_name": ".venv",
   "language": "python",
   "name": "python3"
  },
  "language_info": {
   "codemirror_mode": {
    "name": "ipython",
    "version": 3
   },
   "file_extension": ".py",
   "mimetype": "text/x-python",
   "name": "python",
   "nbconvert_exporter": "python",
   "pygments_lexer": "ipython3",
   "version": "3.11.9"
  }
 },
 "nbformat": 4,
 "nbformat_minor": 5
}
